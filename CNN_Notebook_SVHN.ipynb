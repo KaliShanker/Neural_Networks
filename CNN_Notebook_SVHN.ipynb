{
  "nbformat": 4,
  "nbformat_minor": 0,
  "metadata": {
    "colab": {
      "name": "CNN_Project_Learner_Notebook_SVHN.ipynb",
      "provenance": [],
      "collapsed_sections": []
    },
    "kernelspec": {
      "display_name": "Python 3",
      "language": "python",
      "name": "python3"
    },
    "language_info": {
      "codemirror_mode": {
        "name": "ipython",
        "version": 3
      },
      "file_extension": ".py",
      "mimetype": "text/x-python",
      "name": "python",
      "nbconvert_exporter": "python",
      "pygments_lexer": "ipython3",
      "version": "3.8.8"
    }
  },
  "cells": [
    {
      "cell_type": "markdown",
      "metadata": {
        "id": "Q91KqmCRu64D"
      },
      "source": [
        "# **Project - Convolutional Neural Networks: Street View Housing Number Digit Recognition**\n",
        "\n",
        "# Marks: 30\n",
        "\n",
        "Welcome to the project on classification using Convolutional Neural Networks. We will continue to work with the Street View Housing Numbers (SVHN) image dataset for this project.\n",
        "\n",
        "--------------\n",
        "### **Context:** \n",
        "--------------\n",
        "\n",
        "One of the most interesting tasks in deep learning is to recognize objects in natural scenes. The ability to process visual information using machine learning algorithms can be very useful as demonstrated in various applications.\n",
        "\n",
        "The SVHN dataset contains over 600,000 labeled digits cropped from street-level photos. It is one of the most popular image recognition datasets. It has been used in neural networks created by Google to improve map quality by automatically transcribing the address numbers from a patch of pixels. The transcribed number with a known street address helps pinpoint the location of the building it represents. \n",
        "\n",
        "----------------\n",
        "### **Objective:**\n",
        "----------------\n",
        "\n",
        "Build a CNN model that can identify the digits in the images.\n",
        "\n",
        "-------------\n",
        "### **Dataset**\n",
        "-------------\n",
        "Here, we will use a subset of the original data to save some computation time. The dataset is provided as a .h5 file. The basic preprocessing steps have been done."
      ]
    },
    {
      "cell_type": "markdown",
      "metadata": {
        "id": "8z2Z7-OAs8QG"
      },
      "source": [
        "## **Mount the drive**\n",
        "Let us start by mounting the drive and importing the necessary libraries."
      ]
    },
    {
      "cell_type": "code",
      "metadata": {
        "colab": {
          "base_uri": "https://localhost:8080/"
        },
        "id": "03lDyQUuef7z",
        "outputId": "c34b7c1d-6ac5-4c54-d224-d86f376f12c9"
      },
      "source": [
        "from google.colab import drive\n",
        "drive.mount('/content/drive')"
      ],
      "execution_count": 31,
      "outputs": [
        {
          "output_type": "stream",
          "name": "stdout",
          "text": [
            "Drive already mounted at /content/drive; to attempt to forcibly remount, call drive.mount(\"/content/drive\", force_remount=True).\n"
          ]
        }
      ]
    },
    {
      "cell_type": "markdown",
      "metadata": {
        "id": "C8U3DUa3eNsT"
      },
      "source": [
        "## **Importing libraries**"
      ]
    },
    {
      "cell_type": "code",
      "metadata": {
        "id": "-dVzeuF3eQx1"
      },
      "source": [
        "import numpy as np\n",
        "import pandas as pd\n",
        "import matplotlib.pyplot as plt\n",
        "import seaborn as sns\n",
        "\n",
        "from sklearn.model_selection import train_test_split\n",
        "from sklearn.preprocessing import MinMaxScaler\n",
        "\n",
        "import tensorflow as tf\n",
        "from tensorflow.keras.models import Sequential\n",
        "from tensorflow.keras.layers import Dense, Conv2D, MaxPool2D, BatchNormalization, Dropout, Flatten, LeakyReLU\n",
        "from tensorflow.keras.utils import to_categorical"
      ],
      "execution_count": 32,
      "outputs": []
    },
    {
      "cell_type": "markdown",
      "metadata": {
        "id": "ucnevGLoyKf_"
      },
      "source": [
        "Let us check for the version of TensorFlow."
      ]
    },
    {
      "cell_type": "code",
      "metadata": {
        "colab": {
          "base_uri": "https://localhost:8080/"
        },
        "id": "W5as47YxyJVk",
        "outputId": "18ed45af-588d-4064-f7b1-070a1f47c131"
      },
      "source": [
        "print(tf.__version__)"
      ],
      "execution_count": 33,
      "outputs": [
        {
          "output_type": "stream",
          "name": "stdout",
          "text": [
            "2.6.0\n"
          ]
        }
      ]
    },
    {
      "cell_type": "markdown",
      "metadata": {
        "id": "8lsux2ZwyTTR"
      },
      "source": [
        "## **Load the dataset**\n",
        "- Let us now load the dataset that is available as a .h5 file.\n",
        "- Split the data into train and the test dataset"
      ]
    },
    {
      "cell_type": "code",
      "metadata": {
        "id": "BApX9qgNsqV0",
        "scrolled": true
      },
      "source": [
        "import h5py\n",
        "\n",
        "# Open the file as read only\n",
        "# User can make changes in the path as required\n",
        "h5f = h5py.File('/content/drive/MyDrive/ADSP/SVHN_single_grey1.h5', 'r')\n",
        "\n",
        "# Load the training and the test set\n",
        "X_train = h5f['X_train'][:]\n",
        "y_train = h5f['y_train'][:]\n",
        "X_test = h5f['X_test'][:]\n",
        "y_test = h5f['y_test'][:]\n",
        "\n",
        "\n",
        "# Close this file\n",
        "h5f.close()"
      ],
      "execution_count": 34,
      "outputs": []
    },
    {
      "cell_type": "markdown",
      "metadata": {
        "id": "hVe0CYpUgj7w"
      },
      "source": [
        "Let's check the number of images in the training and testing data."
      ]
    },
    {
      "cell_type": "code",
      "metadata": {
        "colab": {
          "base_uri": "https://localhost:8080/"
        },
        "id": "y3lwKpOefkpA",
        "outputId": "31f272be-9fe2-4d60-d243-c91d93bb053e"
      },
      "source": [
        "len(X_train), len(X_test)"
      ],
      "execution_count": 35,
      "outputs": [
        {
          "output_type": "execute_result",
          "data": {
            "text/plain": [
              "(42000, 18000)"
            ]
          },
          "metadata": {},
          "execution_count": 35
        }
      ]
    },
    {
      "cell_type": "markdown",
      "metadata": {
        "id": "akTUOfLlgwoM"
      },
      "source": [
        "**Observations**\n",
        "- There are 42,000 images in the training data and 18,000 images in the testing data. "
      ]
    },
    {
      "cell_type": "markdown",
      "metadata": {
        "id": "kxODV6HKykuc"
      },
      "source": [
        "## **Visualizing images**\n",
        "- Use X_train to visualize the first 10 images\n",
        "- Use Y_train to print the first 10 labels"
      ]
    },
    {
      "cell_type": "markdown",
      "metadata": {
        "id": "Rn5IZYv-e2TC"
      },
      "source": [
        "#### **Question 1: Complete the below code to visualize the first 10 images from the training data (1 Mark)**"
      ]
    },
    {
      "cell_type": "code",
      "metadata": {
        "colab": {
          "base_uri": "https://localhost:8080/",
          "height": 96
        },
        "id": "Bvsc8ytHsqWD",
        "outputId": "b5be9315-653d-46fa-83b4-5de1161ed19e"
      },
      "source": [
        "# visualizing the first 10 images in the dataset and their labels\n",
        "plt.figure(figsize=(10, 1))\n",
        "\n",
        "for i in range(10):\n",
        "    plt.subplot(1, 10, i+1)\n",
        "    plt.imshow(X_train[i], cmap=\"gray\") # write the function to visualize images\n",
        "    plt.axis('off')\n",
        "\n",
        "plt.show()\n",
        "print('label for each of the above image: %s' % (y_train[0:10]))"
      ],
      "execution_count": 36,
      "outputs": [
        {
          "output_type": "display_data",
          "data": {
            "image/png": "[encoded data removed]",
            "text/plain": [
              "<Figure size 720x72 with 10 Axes>"
            ]
          },
          "metadata": {
            "needs_background": "light"
          }
        },
        {
          "output_type": "stream",
          "name": "stdout",
          "text": [
            "label for each of the above image: [2 6 7 4 4 0 3 0 7 3]\n"
          ]
        }
      ]
    },
    {
      "cell_type": "markdown",
      "metadata": {
        "id": "kzoyeXHOy80N"
      },
      "source": [
        "## **Data Preparation**\n",
        "\n",
        "- Print the first image in the train image and figure out the shape of the images\n",
        "- Reshape the train and the test dataset to make them fit the first convolutional operation that we will create later. Figure out the required shape\n",
        "- Normalize the train and the test dataset by dividing by 255\n",
        "- Print the new shapes of the train and the test set\n",
        "- One-hot encode the target variable"
      ]
    },
    {
      "cell_type": "code",
      "metadata": {
        "colab": {
          "base_uri": "https://localhost:8080/"
        },
        "id": "NqndzQXng9rL",
        "outputId": "c00017ce-2dd1-4fef-8d71-59af2b384380"
      },
      "source": [
        "# Shape of the images and the first image\n",
        "\n",
        "print(\"Shape:\", X_train[0].shape)\n",
        "print()\n",
        "print(\"First image:\\n\", X_train[0])"
      ],
      "execution_count": 37,
      "outputs": [
        {
          "output_type": "stream",
          "name": "stdout",
          "text": [
            "Shape: (32, 32)\n",
            "\n",
            "First image:\n",
            " [[ 33.0704  30.2601  26.852  ...  71.4471  58.2204  42.9939]\n",
            " [ 25.2283  25.5533  29.9765 ... 113.0209 103.3639  84.2949]\n",
            " [ 26.2775  22.6137  40.4763 ... 113.3028 121.775  115.4228]\n",
            " ...\n",
            " [ 28.5502  36.212   45.0801 ...  24.1359  25.0927  26.0603]\n",
            " [ 38.4352  26.4733  23.2717 ...  28.1094  29.4683  30.0661]\n",
            " [ 50.2984  26.0773  24.0389 ...  49.6682  50.853   53.0377]]\n"
          ]
        }
      ]
    },
    {
      "cell_type": "code",
      "metadata": {
        "id": "D9YPwf9ysqWU"
      },
      "source": [
        "# Reshaping the dataset to flatten them. Remember that we always have to give a 4D array as input to CNNs\n",
        "\n",
        "X_train = X_train.reshape(X_train.shape[0], 32,32,1)\n",
        "X_test = X_test.reshape(X_test.shape[0], 32,32,1)"
      ],
      "execution_count": 38,
      "outputs": []
    },
    {
      "cell_type": "code",
      "metadata": {
        "id": "q_yUUTp_mUzB"
      },
      "source": [
        "# Normalize inputs from 0-255 to 0-1\n",
        "\n",
        "X_train = X_train / 255.0\n",
        "X_test = X_test / 255.0"
      ],
      "execution_count": 39,
      "outputs": []
    },
    {
      "cell_type": "code",
      "metadata": {
        "colab": {
          "base_uri": "https://localhost:8080/"
        },
        "id": "t7FSqOpamWkH",
        "outputId": "b1ca43b2-6b5a-457d-f520-11b1d41428ea"
      },
      "source": [
        "# New shape \n",
        "\n",
        "print('Training set:', X_train.shape, y_train.shape)\n",
        "print('Test set:', X_test.shape, y_test.shape)"
      ],
      "execution_count": 40,
      "outputs": [
        {
          "output_type": "stream",
          "name": "stdout",
          "text": [
            "Training set: (42000, 32, 32, 1) (42000,)\n",
            "Test set: (18000, 32, 32, 1) (18000,)\n"
          ]
        }
      ]
    },
    {
      "cell_type": "markdown",
      "metadata": {
        "id": "YP92jacue2TE"
      },
      "source": [
        "#### **Question 2: One-hot encode the labels in the target variable y_train and y_test (2 Marks)**"
      ]
    },
    {
      "cell_type": "code",
      "metadata": {
        "colab": {
          "base_uri": "https://localhost:8080/"
        },
        "id": "zL0lYER4sqWw",
        "outputId": "5d1a3d5a-ff59-43a4-e2ea-1cea91f5b5f1"
      },
      "source": [
        "#Write the function and appropriate variable name to one-hot encode the output\n",
        "\n",
        "y_train = tf.keras.utils.to_categorical(y_train)\n",
        "y_test = tf.keras.utils.to_categorical(y_test)\n",
        "\n",
        "#test labels\n",
        "y_test"
      ],
      "execution_count": 41,
      "outputs": [
        {
          "output_type": "execute_result",
          "data": {
            "text/plain": [
              "array([[0., 1., 0., ..., 0., 0., 0.],\n",
              "       [0., 0., 0., ..., 1., 0., 0.],\n",
              "       [0., 0., 1., ..., 0., 0., 0.],\n",
              "       ...,\n",
              "       [0., 0., 0., ..., 1., 0., 0.],\n",
              "       [0., 0., 0., ..., 0., 0., 1.],\n",
              "       [0., 0., 1., ..., 0., 0., 0.]], dtype=float32)"
            ]
          },
          "metadata": {},
          "execution_count": 41
        }
      ]
    },
    {
      "cell_type": "markdown",
      "metadata": {
        "id": "ViqPOTquCF76"
      },
      "source": [
        "- Notice that each entry of y_test is a one-hot encoded vector instead of a single label."
      ]
    },
    {
      "cell_type": "markdown",
      "metadata": {
        "id": "yH-gVrzuByNA"
      },
      "source": [
        "## **Model Building**\n",
        "\n",
        "Now, we have done data preprocessing, let's build a CNN model."
      ]
    },
    {
      "cell_type": "code",
      "metadata": {
        "id": "eaGr-3Noe2TF"
      },
      "source": [
        "#Fixing the seed for random number generators\n",
        "np.random.seed(42)\n",
        "import random\n",
        "random.seed(42)\n",
        "tf.random.set_seed(42)"
      ],
      "execution_count": 42,
      "outputs": []
    },
    {
      "cell_type": "markdown",
      "metadata": {
        "id": "UJDUoaEj1d6e"
      },
      "source": [
        "### **Model Architecture**\n",
        "- Write a function that returns a sequential model with the following architecture\n",
        " - First Convolutional layer with **16 filters and kernel size of 3x3**. Use the **'same' padding** and provide an **apt input shape**\n",
        " - Add a **LeakyRelu layer** with the **slope equal to 0.1**\n",
        " - Second Convolutional layer with **32 filters and kernel size of 3x3 with 'same' padding**\n",
        " - Another **LeakyRelu** with the **slope equal to 0.1**\n",
        " - A **max-pooling layer** with a **pool size of 2x2**\n",
        " - **Flatten** the output from the previous layer\n",
        " - Add a **dense layer with 32 nodes**\n",
        " - Add a **LeakyRelu layer with slope equal to 0.1**\n",
        " - Add the final **output layer with nodes equal to the number of classes** and **softmax activation**\n",
        " - Compile the model with the **categorical_crossentropy loss, adam optimizers (learning_rate = 0.001), and accuracy metric**. Do not fit the model here, just return the compiled model\n",
        "- Call the function and store the model in a new variable\n",
        "- Print the summary of the model.\n",
        "- Fit the model on the train data with a **validation split of 0.2, batch size = 32, verbose = 1, and 20 epochs**. Store the model building history to use later for visualization."
      ]
    },
    {
      "cell_type": "markdown",
      "metadata": {
        "id": "Uw8pZcNwe2TG"
      },
      "source": [
        "#### **Question 3: Build and train a CNN model as per the above mentioned architecture (10 Marks)**"
      ]
    },
    {
      "cell_type": "code",
      "metadata": {
        "id": "Cmi81Gr5sqW-"
      },
      "source": [
        "#Importing losses and optimizers modules\n",
        "from tensorflow.keras import losses\n",
        "from tensorflow.keras import optimizers\n",
        "\n",
        "#Define the function\n",
        "def cnn_model_1():\n",
        "    model = Sequential()\n",
        "    model.add(Conv2D(filters=16, kernel_size=(3, 3), padding='same', input_shape=(32,32,1,)))\n",
        "    model.add(LeakyReLU(alpha=0.1))\n",
        "    model.add(Conv2D(filters=32, kernel_size=(3, 3), padding='same'))\n",
        "    model.add(LeakyReLU(alpha=0.1))\n",
        "    model.add(MaxPool2D(pool_size=(2, 2)))\n",
        "    model.add(Flatten())\n",
        "    model.add(Dense(32))\n",
        "    model.add(LeakyReLU(alpha=0.1))\n",
        "    model.add(Dense(10, activation='softmax'))\n",
        "    \n",
        "    #Add layers as per the architecture mentioned above in the same sequence\n",
        "    \n",
        "    #declare adam optimizer with learning rate of 0.001 \n",
        "    adam = optimizers.Adam(learning_rate=0.001)\n",
        "    \n",
        "    #compile the model\n",
        "    model.compile(optimizer='adam', loss=\"categorical_crossentropy\", metrics=[\"accuracy\"])\n",
        "    \n",
        "    return model"
      ],
      "execution_count": 63,
      "outputs": []
    },
    {
      "cell_type": "code",
      "metadata": {
        "id": "bGCUI_xsImnH"
      },
      "source": [
        "#Build the model\n",
        "model_1 = cnn_model_1()"
      ],
      "execution_count": 64,
      "outputs": []
    },
    {
      "cell_type": "code",
      "metadata": {
        "id": "ckJsLdmdQadZ",
        "colab": {
          "base_uri": "https://localhost:8080/"
        },
        "outputId": "f736619a-09e4-4fb3-f44f-81af309f859b"
      },
      "source": [
        "#Print the model summary\n",
        "model_1.summary()"
      ],
      "execution_count": 65,
      "outputs": [
        {
          "output_type": "stream",
          "name": "stdout",
          "text": [
            "Model: \"sequential_6\"\n",
            "_________________________________________________________________\n",
            "Layer (type)                 Output Shape              Param #   \n",
            "=================================================================\n",
            "conv2d_10 (Conv2D)           (None, 32, 32, 16)        160       \n",
            "_________________________________________________________________\n",
            "leaky_re_lu_11 (LeakyReLU)   (None, 32, 32, 16)        0         \n",
            "_________________________________________________________________\n",
            "conv2d_11 (Conv2D)           (None, 32, 32, 32)        4640      \n",
            "_________________________________________________________________\n",
            "leaky_re_lu_12 (LeakyReLU)   (None, 32, 32, 32)        0         \n",
            "_________________________________________________________________\n",
            "max_pooling2d_4 (MaxPooling2 (None, 16, 16, 32)        0         \n",
            "_________________________________________________________________\n",
            "flatten_3 (Flatten)          (None, 8192)              0         \n",
            "_________________________________________________________________\n",
            "dense_6 (Dense)              (None, 32)                262176    \n",
            "_________________________________________________________________\n",
            "leaky_re_lu_13 (LeakyReLU)   (None, 32)                0         \n",
            "_________________________________________________________________\n",
            "dense_7 (Dense)              (None, 10)                330       \n",
            "=================================================================\n",
            "Total params: 267,306\n",
            "Trainable params: 267,306\n",
            "Non-trainable params: 0\n",
            "_________________________________________________________________\n"
          ]
        }
      ]
    },
    {
      "cell_type": "code",
      "metadata": {
        "id": "3Fy3Dif_zcCk",
        "colab": {
          "base_uri": "https://localhost:8080/"
        },
        "outputId": "d70ff1d8-e04b-47cd-a9c0-10567f74b5bf"
      },
      "source": [
        "# Fit the model\n",
        "history_model_1 = model_1.fit(X_train, y_train, validation_data=(X_test, y_test), validation_split=0.2, verbose=1, epochs=20, batch_size=32)"
      ],
      "execution_count": 66,
      "outputs": [
        {
          "output_type": "stream",
          "name": "stdout",
          "text": [
            "Epoch 1/20\n",
            "1050/1050 [==============================] - 54s 50ms/step - loss: 1.1774 - accuracy: 0.6060 - val_loss: 0.6532 - val_accuracy: 0.8111\n",
            "Epoch 2/20\n",
            "1050/1050 [==============================] - 53s 50ms/step - loss: 0.5286 - accuracy: 0.8491 - val_loss: 0.5174 - val_accuracy: 0.8533\n",
            "Epoch 3/20\n",
            "1050/1050 [==============================] - 53s 51ms/step - loss: 0.4404 - accuracy: 0.8736 - val_loss: 0.5183 - val_accuracy: 0.8535\n",
            "Epoch 4/20\n",
            "1050/1050 [==============================] - 53s 50ms/step - loss: 0.3884 - accuracy: 0.8868 - val_loss: 0.4484 - val_accuracy: 0.8751\n",
            "Epoch 5/20\n",
            "1050/1050 [==============================] - 53s 50ms/step - loss: 0.3468 - accuracy: 0.8983 - val_loss: 0.4597 - val_accuracy: 0.8718\n",
            "Epoch 6/20\n",
            "1050/1050 [==============================] - 53s 50ms/step - loss: 0.3107 - accuracy: 0.9081 - val_loss: 0.4762 - val_accuracy: 0.8655\n",
            "Epoch 7/20\n",
            "1050/1050 [==============================] - 53s 50ms/step - loss: 0.2832 - accuracy: 0.9163 - val_loss: 0.4593 - val_accuracy: 0.8776\n",
            "Epoch 8/20\n",
            "1050/1050 [==============================] - 53s 51ms/step - loss: 0.2533 - accuracy: 0.9240 - val_loss: 0.4794 - val_accuracy: 0.8710\n",
            "Epoch 9/20\n",
            "1050/1050 [==============================] - 53s 51ms/step - loss: 0.2301 - accuracy: 0.9310 - val_loss: 0.4859 - val_accuracy: 0.8767\n",
            "Epoch 10/20\n",
            "1050/1050 [==============================] - 53s 50ms/step - loss: 0.2083 - accuracy: 0.9369 - val_loss: 0.5102 - val_accuracy: 0.8786\n",
            "Epoch 11/20\n",
            "1050/1050 [==============================] - 53s 51ms/step - loss: 0.1870 - accuracy: 0.9419 - val_loss: 0.5565 - val_accuracy: 0.8688\n",
            "Epoch 12/20\n",
            "1050/1050 [==============================] - 53s 51ms/step - loss: 0.1716 - accuracy: 0.9460 - val_loss: 0.5397 - val_accuracy: 0.8738\n",
            "Epoch 13/20\n",
            "1050/1050 [==============================] - 53s 51ms/step - loss: 0.1524 - accuracy: 0.9524 - val_loss: 0.6019 - val_accuracy: 0.8699\n",
            "Epoch 14/20\n",
            "1050/1050 [==============================] - 53s 50ms/step - loss: 0.1405 - accuracy: 0.9565 - val_loss: 0.5854 - val_accuracy: 0.8774\n",
            "Epoch 15/20\n",
            "1050/1050 [==============================] - 53s 50ms/step - loss: 0.1265 - accuracy: 0.9617 - val_loss: 0.6399 - val_accuracy: 0.8701\n",
            "Epoch 16/20\n",
            "1050/1050 [==============================] - 53s 51ms/step - loss: 0.1186 - accuracy: 0.9625 - val_loss: 0.6285 - val_accuracy: 0.8723\n",
            "Epoch 17/20\n",
            "1050/1050 [==============================] - 53s 51ms/step - loss: 0.1020 - accuracy: 0.9673 - val_loss: 0.6680 - val_accuracy: 0.8730\n",
            "Epoch 18/20\n",
            "1050/1050 [==============================] - 53s 50ms/step - loss: 0.0951 - accuracy: 0.9699 - val_loss: 0.7043 - val_accuracy: 0.8699\n",
            "Epoch 19/20\n",
            "1050/1050 [==============================] - 53s 50ms/step - loss: 0.0883 - accuracy: 0.9714 - val_loss: 0.7248 - val_accuracy: 0.8701\n",
            "Epoch 20/20\n",
            "1050/1050 [==============================] - 53s 50ms/step - loss: 0.0808 - accuracy: 0.9735 - val_loss: 0.7871 - val_accuracy: 0.8704\n"
          ]
        }
      ]
    },
    {
      "cell_type": "markdown",
      "metadata": {
        "id": "tKOckG-KPyLg"
      },
      "source": [
        "### **Plotting the validation and training accuracies**"
      ]
    },
    {
      "cell_type": "markdown",
      "metadata": {
        "id": "sVyQ9Gpge2TI"
      },
      "source": [
        "#### **Question 4: Write your observations on the below plot (2 Marks)**"
      ]
    },
    {
      "cell_type": "code",
      "metadata": {
        "colab": {
          "base_uri": "https://localhost:8080/",
          "height": 497
        },
        "id": "lt77zgGMP4yw",
        "outputId": "c74eb6bf-5bee-4a3d-a426-8113e93aafe5"
      },
      "source": [
        "# plotting the accuracies\n",
        "\n",
        "dict_hist = history_model_1.history\n",
        "list_ep = [i for i in range(1,21)]\n",
        "\n",
        "plt.figure(figsize = (8,8))\n",
        "plt.plot(list_ep,dict_hist['accuracy'],ls = '--', label = 'accuracy')\n",
        "plt.plot(list_ep,dict_hist['val_accuracy'],ls = '--', label = 'val_accuracy')\n",
        "plt.ylabel('Accuracy')\n",
        "plt.xlabel('Epochs')\n",
        "plt.legend()\n",
        "plt.show()"
      ],
      "execution_count": 67,
      "outputs": [
        {
          "output_type": "display_data",
          "data": {
            "image/png": "[encoded data removed]",
            "text/plain": [
              "<Figure size 576x576 with 1 Axes>"
            ]
          },
          "metadata": {
            "needs_background": "light"
          }
        }
      ]
    },
    {
      "cell_type": "markdown",
      "metadata": {
        "id": "pGBbQpLONX7k"
      },
      "source": [
        "**Observations:**\n",
        "\n",
        "From the plot above, we can observe that up until around epoch 2, we have a steady, rapid increase on the accuracy of the training data. \n",
        "\n",
        "Only around epoch 2 does the test accuracy align with the training accuracy, indicating that there is overfitting.\n",
        "\n",
        "At epoch 2, we see the training accuracy is 84.91%  and the test accuracy is 85.33%. \n"
      ]
    },
    {
      "cell_type": "markdown",
      "metadata": {
        "id": "z0qgLMBZm5-K"
      },
      "source": [
        "Let's build another model and see if we can get a better model with generalized performance.\n",
        "\n",
        "First, we need to clear the previous model's history from the keras backend. Also, let's fix the seed again after clearing the backend."
      ]
    },
    {
      "cell_type": "code",
      "metadata": {
        "id": "y98BpLxsok_H"
      },
      "source": [
        "#Clearing backend\n",
        "from tensorflow.keras import backend\n",
        "backend.clear_session()"
      ],
      "execution_count": 68,
      "outputs": []
    },
    {
      "cell_type": "code",
      "metadata": {
        "id": "HbKi93HTolGW"
      },
      "source": [
        "#Fixing the seed for random number generators\n",
        "np.random.seed(42)\n",
        "import random\n",
        "random.seed(42)\n",
        "tf.random.set_seed(42)"
      ],
      "execution_count": 69,
      "outputs": []
    },
    {
      "cell_type": "markdown",
      "metadata": {
        "id": "lT6o3TIKuCtk"
      },
      "source": [
        "### **Second Model Architecture**\n",
        "- Write a function that returns a sequential model with the following architecture\n",
        " - First Convolutional layer with **16 filters and kernel size of 3x3**. Use the **'same' padding** and provide an **apt input shape**\n",
        " - Add a **LeakyRelu layer** with the **slope equal to 0.1**\n",
        " - Second Convolutional layer with **32 filters and kernel size of 3x3 with 'same' padding**\n",
        " - Add **LeakyRelu** with the **slope equal to 0.1**\n",
        " - Add a **max-pooling layer** with a **pool size of 2x2**\n",
        " - Add a **BatchNormalization layer**\n",
        " - Third Convolutional layer with **32 filters and kernel size of 3x3 with 'same' padding**\n",
        " - Add a **LeakyRelu layer with slope equal to 0.1**\n",
        " - Fourth Convolutional layer **64 filters and kernel size of 3x3 with 'same' padding** \n",
        " - Add a **LeakyRelu layer with slope equal to 0.1**\n",
        " - Add a **max-pooling layer** with a **pool size of 2x2**\n",
        " - Add a **BatchNormalization layer**\n",
        " - **Flatten** the output from the previous layer\n",
        " - Add a **dense layer with 32 nodes**\n",
        " - Add a **LeakyRelu layer with slope equal to 0.1**\n",
        " - Add a **dropout layer with rate equal to 0.5**\n",
        " - Add the final **output layer with nodes equal to the number of classes** and **softmax activation**\n",
        " - Compile the model with the **categorical_crossentropy loss, adam optimizers (learning_rate = 0.001), and accuracy metric**. Do not fit the model here, just return the compiled model\n",
        "- Call the function and store the model in a new variable\n",
        "- Print the summary of the model.\n",
        "- Fit the model on the train data with a **validation split of 0.2, batch size = 128, verbose = 1, and 30 epochs**. Store the model building history to use later for visualization."
      ]
    },
    {
      "cell_type": "markdown",
      "metadata": {
        "id": "Sr-bwBT2e2TJ"
      },
      "source": [
        "#### **Question 5: Build and train the second CNN model as per the above mentioned architecture (10 Marks)**"
      ]
    },
    {
      "cell_type": "code",
      "metadata": {
        "id": "EEPYLFIPnSDP"
      },
      "source": [
        "#Define the function\n",
        "def cnn_model_2():\n",
        "    model = Sequential()\n",
        "    model.add(Conv2D(filters=16, kernel_size=(3, 3), padding='same', input_shape=(32,32,1)))\n",
        "    model.add(LeakyReLU(alpha=0.1))\n",
        "    model.add(Conv2D(filters=32, kernel_size=(3, 3), padding='same'))\n",
        "    model.add(LeakyReLU(alpha=0.1))\n",
        "    model.add(MaxPool2D(pool_size=(2, 2)))\n",
        "    model.add(BatchNormalization())\n",
        "    model.add(Conv2D(filters=32, kernel_size=(3, 3), padding='same'))\n",
        "    model.add(LeakyReLU(alpha=0.1))\n",
        "    model.add(Conv2D(filters=64, kernel_size=(3, 3), padding='same'))\n",
        "    model.add(LeakyReLU(alpha=0.1))\n",
        "    model.add(MaxPool2D(pool_size=(2, 2)))\n",
        "    model.add(BatchNormalization())\n",
        "    model.add(Flatten())\n",
        "    model.add(Dense(32))\n",
        "    model.add(LeakyReLU(alpha=0.1))\n",
        "    model.add(Dropout(rate=0.5))\n",
        "    model.add(Dense(10, activation='softmax'))\n",
        "    \n",
        "    \n",
        "    #declare adam optimizer with learning rate of 0.001 \n",
        "    adam = optimizers.Adam(learning_rate=0.001)\n",
        "    \n",
        "    #compile the model\n",
        "    model.compile(optimizer='adam', loss=\"categorical_crossentropy\", metrics=[\"accuracy\"])\n",
        "    \n",
        "    return model"
      ],
      "execution_count": 70,
      "outputs": []
    },
    {
      "cell_type": "code",
      "metadata": {
        "id": "AKjDY4plnSFl"
      },
      "source": [
        "# Build the model\n",
        "model_2 = cnn_model_2()"
      ],
      "execution_count": 71,
      "outputs": []
    },
    {
      "cell_type": "code",
      "metadata": {
        "id": "gz_6SVrU2swZ",
        "colab": {
          "base_uri": "https://localhost:8080/"
        },
        "outputId": "68d7d6ac-fb32-415d-9958-9720c44b5a7b"
      },
      "source": [
        "#Print the summary\n",
        "model_2.summary()"
      ],
      "execution_count": 72,
      "outputs": [
        {
          "output_type": "stream",
          "name": "stdout",
          "text": [
            "Model: \"sequential\"\n",
            "_________________________________________________________________\n",
            "Layer (type)                 Output Shape              Param #   \n",
            "=================================================================\n",
            "conv2d (Conv2D)              (None, 32, 32, 16)        160       \n",
            "_________________________________________________________________\n",
            "leaky_re_lu (LeakyReLU)      (None, 32, 32, 16)        0         \n",
            "_________________________________________________________________\n",
            "conv2d_1 (Conv2D)            (None, 32, 32, 32)        4640      \n",
            "_________________________________________________________________\n",
            "leaky_re_lu_1 (LeakyReLU)    (None, 32, 32, 32)        0         \n",
            "_________________________________________________________________\n",
            "max_pooling2d (MaxPooling2D) (None, 16, 16, 32)        0         \n",
            "_________________________________________________________________\n",
            "batch_normalization (BatchNo (None, 16, 16, 32)        128       \n",
            "_________________________________________________________________\n",
            "conv2d_2 (Conv2D)            (None, 16, 16, 32)        9248      \n",
            "_________________________________________________________________\n",
            "leaky_re_lu_2 (LeakyReLU)    (None, 16, 16, 32)        0         \n",
            "_________________________________________________________________\n",
            "conv2d_3 (Conv2D)            (None, 16, 16, 64)        18496     \n",
            "_________________________________________________________________\n",
            "leaky_re_lu_3 (LeakyReLU)    (None, 16, 16, 64)        0         \n",
            "_________________________________________________________________\n",
            "max_pooling2d_1 (MaxPooling2 (None, 8, 8, 64)          0         \n",
            "_________________________________________________________________\n",
            "batch_normalization_1 (Batch (None, 8, 8, 64)          256       \n",
            "_________________________________________________________________\n",
            "flatten (Flatten)            (None, 4096)              0         \n",
            "_________________________________________________________________\n",
            "dense (Dense)                (None, 32)                131104    \n",
            "_________________________________________________________________\n",
            "leaky_re_lu_4 (LeakyReLU)    (None, 32)                0         \n",
            "_________________________________________________________________\n",
            "dropout (Dropout)            (None, 32)                0         \n",
            "_________________________________________________________________\n",
            "dense_1 (Dense)              (None, 10)                330       \n",
            "=================================================================\n",
            "Total params: 164,362\n",
            "Trainable params: 164,170\n",
            "Non-trainable params: 192\n",
            "_________________________________________________________________\n"
          ]
        }
      ]
    },
    {
      "cell_type": "code",
      "metadata": {
        "id": "IQ0Sc4R-y-uu",
        "colab": {
          "base_uri": "https://localhost:8080/"
        },
        "outputId": "d7d08d1f-76ab-4b97-fc7d-a1e2ec710138"
      },
      "source": [
        "# Fit the model\n",
        "history_model_2 = model_2.fit(X_train, y_train, validation_data=(X_test, y_test), verbose=1, batch_size=128, validation_split=0.2, epochs=30)"
      ],
      "execution_count": 73,
      "outputs": [
        {
          "output_type": "stream",
          "name": "stdout",
          "text": [
            "Epoch 1/30\n",
            "263/263 [==============================] - 82s 309ms/step - loss: 1.4592 - accuracy: 0.5017 - val_loss: 2.8551 - val_accuracy: 0.1183\n",
            "Epoch 2/30\n",
            "263/263 [==============================] - 81s 309ms/step - loss: 0.6910 - accuracy: 0.7886 - val_loss: 0.6354 - val_accuracy: 0.8161\n",
            "Epoch 3/30\n",
            "263/263 [==============================] - 81s 309ms/step - loss: 0.5581 - accuracy: 0.8297 - val_loss: 0.4529 - val_accuracy: 0.8695\n",
            "Epoch 4/30\n",
            "263/263 [==============================] - 82s 310ms/step - loss: 0.5013 - accuracy: 0.8479 - val_loss: 0.4435 - val_accuracy: 0.8704\n",
            "Epoch 5/30\n",
            "263/263 [==============================] - 82s 311ms/step - loss: 0.4506 - accuracy: 0.8645 - val_loss: 0.3879 - val_accuracy: 0.8918\n",
            "Epoch 6/30\n",
            "263/263 [==============================] - 82s 310ms/step - loss: 0.4085 - accuracy: 0.8726 - val_loss: 0.3723 - val_accuracy: 0.8937\n",
            "Epoch 7/30\n",
            "263/263 [==============================] - 81s 310ms/step - loss: 0.3853 - accuracy: 0.8826 - val_loss: 0.4507 - val_accuracy: 0.8677\n",
            "Epoch 8/30\n",
            "263/263 [==============================] - 81s 309ms/step - loss: 0.3557 - accuracy: 0.8907 - val_loss: 0.4313 - val_accuracy: 0.8787\n",
            "Epoch 9/30\n",
            "263/263 [==============================] - 81s 309ms/step - loss: 0.3273 - accuracy: 0.8981 - val_loss: 0.3486 - val_accuracy: 0.9085\n",
            "Epoch 10/30\n",
            "263/263 [==============================] - 81s 309ms/step - loss: 0.3141 - accuracy: 0.9002 - val_loss: 0.3563 - val_accuracy: 0.9014\n",
            "Epoch 11/30\n",
            "263/263 [==============================] - 82s 310ms/step - loss: 0.2967 - accuracy: 0.9065 - val_loss: 0.3592 - val_accuracy: 0.9068\n",
            "Epoch 12/30\n",
            "263/263 [==============================] - 82s 310ms/step - loss: 0.2771 - accuracy: 0.9118 - val_loss: 0.3956 - val_accuracy: 0.8998\n",
            "Epoch 13/30\n",
            "263/263 [==============================] - 82s 311ms/step - loss: 0.2711 - accuracy: 0.9143 - val_loss: 0.3769 - val_accuracy: 0.9043\n",
            "Epoch 14/30\n",
            "263/263 [==============================] - 81s 309ms/step - loss: 0.2565 - accuracy: 0.9195 - val_loss: 0.3849 - val_accuracy: 0.8981\n",
            "Epoch 15/30\n",
            "263/263 [==============================] - 81s 308ms/step - loss: 0.2465 - accuracy: 0.9221 - val_loss: 0.4267 - val_accuracy: 0.8904\n",
            "Epoch 16/30\n",
            "263/263 [==============================] - 81s 309ms/step - loss: 0.2362 - accuracy: 0.9241 - val_loss: 0.3605 - val_accuracy: 0.9087\n",
            "Epoch 17/30\n",
            "263/263 [==============================] - 81s 308ms/step - loss: 0.2258 - accuracy: 0.9286 - val_loss: 0.4027 - val_accuracy: 0.9018\n",
            "Epoch 18/30\n",
            "263/263 [==============================] - 81s 309ms/step - loss: 0.2165 - accuracy: 0.9290 - val_loss: 0.4191 - val_accuracy: 0.8989\n",
            "Epoch 19/30\n",
            "263/263 [==============================] - 81s 309ms/step - loss: 0.2176 - accuracy: 0.9304 - val_loss: 0.4217 - val_accuracy: 0.8919\n",
            "Epoch 20/30\n",
            "263/263 [==============================] - 81s 309ms/step - loss: 0.2005 - accuracy: 0.9369 - val_loss: 0.4275 - val_accuracy: 0.9086\n",
            "Epoch 21/30\n",
            "263/263 [==============================] - 82s 310ms/step - loss: 0.1981 - accuracy: 0.9344 - val_loss: 0.3810 - val_accuracy: 0.9115\n",
            "Epoch 22/30\n",
            "263/263 [==============================] - 81s 310ms/step - loss: 0.1881 - accuracy: 0.9383 - val_loss: 0.4146 - val_accuracy: 0.9104\n",
            "Epoch 23/30\n",
            "263/263 [==============================] - 81s 309ms/step - loss: 0.1857 - accuracy: 0.9392 - val_loss: 0.4446 - val_accuracy: 0.9099\n",
            "Epoch 24/30\n",
            "263/263 [==============================] - 81s 310ms/step - loss: 0.1771 - accuracy: 0.9421 - val_loss: 0.5280 - val_accuracy: 0.8876\n",
            "Epoch 25/30\n",
            "263/263 [==============================] - 82s 311ms/step - loss: 0.1688 - accuracy: 0.9446 - val_loss: 0.4387 - val_accuracy: 0.9049\n",
            "Epoch 26/30\n",
            "263/263 [==============================] - 81s 310ms/step - loss: 0.1673 - accuracy: 0.9449 - val_loss: 0.4454 - val_accuracy: 0.9036\n",
            "Epoch 27/30\n",
            "263/263 [==============================] - 82s 311ms/step - loss: 0.1623 - accuracy: 0.9469 - val_loss: 0.4055 - val_accuracy: 0.9120\n",
            "Epoch 28/30\n",
            "263/263 [==============================] - 82s 311ms/step - loss: 0.1575 - accuracy: 0.9480 - val_loss: 0.4011 - val_accuracy: 0.9133\n",
            "Epoch 29/30\n",
            "263/263 [==============================] - 82s 312ms/step - loss: 0.1481 - accuracy: 0.9506 - val_loss: 0.4861 - val_accuracy: 0.9058\n",
            "Epoch 30/30\n",
            "263/263 [==============================] - 82s 311ms/step - loss: 0.1542 - accuracy: 0.9488 - val_loss: 0.4522 - val_accuracy: 0.9144\n"
          ]
        }
      ]
    },
    {
      "cell_type": "markdown",
      "metadata": {
        "id": "0_f1EXmTe2TK"
      },
      "source": [
        "### **Plotting the validation and training accuracies**"
      ]
    },
    {
      "cell_type": "markdown",
      "metadata": {
        "id": "aC5UbsqXe2TK"
      },
      "source": [
        "#### **Question 6: Write your observations on the below plot (2 Marks)**"
      ]
    },
    {
      "cell_type": "code",
      "metadata": {
        "colab": {
          "base_uri": "https://localhost:8080/",
          "height": 497
        },
        "id": "01ig6BrF1KVy",
        "outputId": "b15f997c-f443-469a-f120-2c579cb0ee85"
      },
      "source": [
        "# plotting the accuracies\n",
        "\n",
        "dict_hist = history_model_2.history\n",
        "list_ep = [i for i in range(1,31)]\n",
        "\n",
        "plt.figure(figsize = (8,8))\n",
        "plt.plot(list_ep,dict_hist['accuracy'],ls = '--', label = 'accuracy')\n",
        "plt.plot(list_ep,dict_hist['val_accuracy'],ls = '--', label = 'val_accuracy')\n",
        "plt.ylabel('Accuracy')\n",
        "plt.xlabel('Epochs')\n",
        "plt.legend()\n",
        "plt.show()"
      ],
      "execution_count": 75,
      "outputs": [
        {
          "output_type": "display_data",
          "data": {
            "image/png": "[encoded data removed]",
            "text/plain": [
              "<Figure size 576x576 with 1 Axes>"
            ]
          },
          "metadata": {
            "needs_background": "light"
          }
        }
      ]
    },
    {
      "cell_type": "markdown",
      "metadata": {
        "id": "VPW1LlD61RDn"
      },
      "source": [
        "**Observations:**\n",
        "\n",
        "Compared to the original model, this model has significantly reduced overfitting as well as increased the accuracy for both the training and test sets. \n",
        "\n",
        "The accuracy starts to to plateau around epoch 10 and remain steady. Around here is also where the training and the test data start to diverge.\n",
        "\n",
        "At epoch 10 where the model does not start to overfit the data, the accuracy for the training data is and the accuracy of the test data is ."
      ]
    },
    {
      "cell_type": "markdown",
      "metadata": {
        "id": "8kuXx9Bvu00f"
      },
      "source": [
        "## **Predictions on the test data**\n",
        "\n",
        "- Make predictions on the test set using the second model\n",
        "- Print the obtained results using the classification report and the confusion matrix\n",
        "- Final observations from the obtained results"
      ]
    },
    {
      "cell_type": "markdown",
      "metadata": {
        "id": "yfZwC9OUe2TL"
      },
      "source": [
        "#### **Question 7: Make predictions on the test data using the second model (1 Mark)**"
      ]
    },
    {
      "cell_type": "code",
      "metadata": {
        "id": "xbWMEtTj5Ad0"
      },
      "source": [
        "#Make prediction on the test data using model_2 \n",
        "test_pred = model_2.predict(X_test)\n",
        "\n",
        "test_pred = np.argmax(test_pred, axis=-1)"
      ],
      "execution_count": 76,
      "outputs": []
    },
    {
      "cell_type": "markdown",
      "metadata": {
        "id": "i3li8Ib08yts"
      },
      "source": [
        "**Note:** Earlier, we noticed that each entry of the test data is a one-hot encoded vector but to print the classification report and confusion matrix, we must convert each entry of y_test to a single label."
      ]
    },
    {
      "cell_type": "code",
      "metadata": {
        "id": "NByu7uAQ8x9P"
      },
      "source": [
        "#Converting each entry to single label from one-hot encoded vector\n",
        "y_test = np.argmax(y_test, axis=-1)"
      ],
      "execution_count": 77,
      "outputs": []
    },
    {
      "cell_type": "markdown",
      "metadata": {
        "id": "yHDUEma0e2TM"
      },
      "source": [
        "#### **Question 8: Write your final observations on the performance of the model on the test data (2 Marks)**"
      ]
    },
    {
      "cell_type": "code",
      "metadata": {
        "colab": {
          "base_uri": "https://localhost:8080/",
          "height": 629
        },
        "id": "xRddeJ-3EHT1",
        "outputId": "9e0c1100-9599-4b6d-a4d9-f75e44135245"
      },
      "source": [
        "#importing required functions\n",
        "from sklearn.metrics import classification_report\n",
        "from sklearn.metrics import confusion_matrix\n",
        "\n",
        "#Printing the classification report\n",
        "print(classification_report(y_test, test_pred))\n",
        "\n",
        "#Plotting the heatmap using confusion matrix\n",
        "cm = confusion_matrix(y_test, test_pred)\n",
        "plt.figure(figsize=(8,5))\n",
        "sns.heatmap(cm, annot=True,  fmt='.0f')\n",
        "plt.ylabel('Actual')\n",
        "plt.xlabel('Predicted')\n",
        "plt.show()"
      ],
      "execution_count": 78,
      "outputs": [
        {
          "output_type": "stream",
          "name": "stdout",
          "text": [
            "              precision    recall  f1-score   support\n",
            "\n",
            "           0       0.93      0.93      0.93      1814\n",
            "           1       0.88      0.92      0.90      1828\n",
            "           2       0.93      0.93      0.93      1803\n",
            "           3       0.92      0.86      0.89      1719\n",
            "           4       0.91      0.93      0.92      1812\n",
            "           5       0.90      0.92      0.91      1768\n",
            "           6       0.90      0.89      0.90      1832\n",
            "           7       0.93      0.93      0.93      1808\n",
            "           8       0.91      0.89      0.90      1812\n",
            "           9       0.91      0.91      0.91      1804\n",
            "\n",
            "    accuracy                           0.91     18000\n",
            "   macro avg       0.91      0.91      0.91     18000\n",
            "weighted avg       0.91      0.91      0.91     18000\n",
            "\n"
          ]
        },
        {
          "output_type": "display_data",
          "data": {
            "image/png": "[encoded data removed]",
            "text/plain": [
              "<Figure size 576x360 with 2 Axes>"
            ]
          },
          "metadata": {
            "needs_background": "light"
          }
        }
      ]
    },
    {
      "cell_type": "markdown",
      "metadata": {
        "id": "DjErl4GA2u9s"
      },
      "source": [
        "#### **Observations:**\n",
        "\n",
        "From the classification report we can see that we are getting fairly good values for both precision and recall. The overall accuracy is 91%. Class 0 has the highest recall rate.\n",
        "\n",
        "Based on the confusion matrix, we can see that the model did a great job of generalizing the data so there is no overfitting, as well a differentiating between classes. "
      ]
    }
  ]
}